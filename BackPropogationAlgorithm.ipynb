{
 "cells": [
  {
   "cell_type": "code",
   "execution_count": 5,
   "id": "3d894dcd",
   "metadata": {},
   "outputs": [],
   "source": [
    "import numpy as np"
   ]
  },
  {
   "cell_type": "code",
   "execution_count": 6,
   "id": "80ce81cf",
   "metadata": {},
   "outputs": [
    {
     "name": "stdout",
     "output_type": "stream",
     "text": [
      "[[0.28571429 1.        ]\n",
      " [0.42857143 0.66666667]\n",
      " [0.57142857 0.55555556]\n",
      " [1.         0.88888889]]\n",
      "------------------------------\n",
      "[[0.89]\n",
      " [0.92]\n",
      " [0.77]\n",
      " [0.95]]\n"
     ]
    }
   ],
   "source": [
    "X = np.array(([2,9],[3,6],[4,5],[7,8]),dtype = float)\n",
    "Y = np.array(([89],[92],[77],[95]),dtype = float)\n",
    "\n",
    "X  = X / np.amax(X,axis = 0)\n",
    "Y = Y / 100\n",
    "\n",
    "print(X)\n",
    "print(\"------------------------------\")\n",
    "print(Y)"
   ]
  },
  {
   "cell_type": "code",
   "execution_count": 13,
   "id": "7d25e304",
   "metadata": {},
   "outputs": [
    {
     "name": "stdout",
     "output_type": "stream",
     "text": [
      "\n",
      "Loss : 0.3177108271038027\n",
      "\n",
      "Loss : 0.0037059014121582573\n",
      "\n",
      "Loss : 0.00367354155420009\n",
      "\n",
      "Loss : 0.003650544521108804\n",
      "\n",
      "Loss : 0.003633766171949505\n",
      "\n",
      "Loss : 0.0036212092316311737\n",
      "\n",
      "Loss : 0.003611578877294117\n",
      "\n",
      "Loss : 0.0036040179418241245\n",
      "\n",
      "Loss : 0.0035979475075774417\n",
      "\n",
      "Loss : 0.0035929692664965476\n",
      "Input : [[0.28571429 1.        ]\n",
      " [0.42857143 0.66666667]\n",
      " [0.57142857 0.55555556]\n",
      " [1.         0.88888889]]\n",
      "\n",
      "Actual Output : [[0.89]\n",
      " [0.92]\n",
      " [0.77]\n",
      " [0.95]]\n",
      "\n",
      "Loss : 0.0035888045079810783\n",
      "\n",
      "Predicted Output : [[0.90116139]\n",
      " [0.87686886]\n",
      " [0.8615163 ]\n",
      " [0.8867931 ]]\n"
     ]
    }
   ],
   "source": [
    "class NeuralNetwork(object):\n",
    "    def __init__(self):\n",
    "        # parameters\n",
    "        self.inputSize = 2\n",
    "        self.outputSize = 1\n",
    "        self.hiddenSize = 3\n",
    "        \n",
    "        # weights\n",
    "        self.W1 = np.random.randn(self.inputSize , self.hiddenSize) # (3 x 2) weight matrix from input to hidden layer\n",
    "        self.W2 = np.random.randn(self.hiddenSize , self.outputSize) # (3 x 1) weight matrix from hidden to output layer\n",
    "        \n",
    "    def feedForward(self , X):\n",
    "        # forward propagation through the network\n",
    "        self.z1 = np.dot(X, self.W1) # dot product of X (input) and first set of weights\n",
    "        self.z2 = self.sigmoid(self.z1) # activation function\n",
    "        self.z3 = np.dot(self.z2 , self.W2) # dot product of hidden layer (z2) and second set of weights (3 x 1)\n",
    "        output = self.sigmoid(self.z3)\n",
    "        return output\n",
    "    \n",
    "    def sigmoid(self, s , deriv = False):\n",
    "        if deriv == True:\n",
    "            return s * (1 - s)\n",
    "        return 1 / (1 + np.exp(-s))\n",
    "    \n",
    "    def backward(self , X , Y , output):\n",
    "        # backward propagate through the network\n",
    "        self.output_error = Y - output # error in the output\n",
    "        self.output_delta = self.output_error * self.sigmoid(output , deriv = True)\n",
    "        \n",
    "        self.z2_error = self.output_delta.dot(self.W2.T) # .T gives the transpose of the matrix  # z2 error : how much our hidden layer contributes to the output error \n",
    "        self.z2_delta = self.z2_error * self.sigmoid(self.z2 , deriv = True)\n",
    "        \n",
    "        self.W1 += X.T.dot(self.z2_delta) # adjusting the first set (input -> hidden) weights\n",
    "        self.W2 += self.z2.T.dot(self.output_delta) # adjusting the second set (hidden -> output) weights\n",
    "        \n",
    "        \n",
    "    def train(self , X , Y):\n",
    "        output = self.feedForward(X)\n",
    "        self.backward(X , Y , output)\n",
    "        \n",
    "NN = NeuralNetwork()\n",
    "\n",
    "for i in range(1000):\n",
    "    if ( i % 100 == 0):\n",
    "        print(\"\\nLoss : \"+str(np.mean(np.square(Y - NN.feedForward(X)))))\n",
    "    NN.train(X,Y)\n",
    "\n",
    "    \n",
    "print(\"Input : \"+str(X))\n",
    "print(\"\\nActual Output : \"+str(Y))\n",
    "print(\"\\nLoss : \"+str(np.mean(np.square(Y - NN.feedForward(X)))))\n",
    "print(\"\\nPredicted Output : \"+str(NN.feedForward(X)))    \n",
    "        "
   ]
  },
  {
   "cell_type": "code",
   "execution_count": null,
   "id": "bf4d4790",
   "metadata": {},
   "outputs": [],
   "source": []
  }
 ],
 "metadata": {
  "kernelspec": {
   "display_name": "Python 3 (ipykernel)",
   "language": "python",
   "name": "python3"
  },
  "language_info": {
   "codemirror_mode": {
    "name": "ipython",
    "version": 3
   },
   "file_extension": ".py",
   "mimetype": "text/x-python",
   "name": "python",
   "nbconvert_exporter": "python",
   "pygments_lexer": "ipython3",
   "version": "3.9.12"
  }
 },
 "nbformat": 4,
 "nbformat_minor": 5
}
